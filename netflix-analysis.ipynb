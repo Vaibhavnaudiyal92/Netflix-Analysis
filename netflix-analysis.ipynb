{
 "cells": [
  {
   "cell_type": "markdown",
   "metadata": {
    "papermill": {
     "duration": 0.014703,
     "end_time": "2020-09-09T06:52:19.992760",
     "exception": false,
     "start_time": "2020-09-09T06:52:19.978057",
     "status": "completed"
    },
    "tags": []
   },
   "source": [
    "# Introduction\n",
    "\n",
    "In this notebook, I will be analysing our netflix account data to understand our viewing history. I have used external data sources from kaggle for data engineering and data augmentation. "
   ]
  },
  {
   "cell_type": "code",
   "execution_count": 1,
   "metadata": {
    "_cell_guid": "b1076dfc-b9ad-4769-8c92-a6c4dae69d19",
    "_uuid": "8f2839f25d086af736a60e9eeb907d3b93b6e0e5",
    "execution": {
     "iopub.execute_input": "2020-09-09T06:52:20.026882Z",
     "iopub.status.busy": "2020-09-09T06:52:20.026125Z",
     "iopub.status.idle": "2020-09-09T06:52:21.011263Z",
     "shell.execute_reply": "2020-09-09T06:52:21.010556Z"
    },
    "papermill": {
     "duration": 1.004384,
     "end_time": "2020-09-09T06:52:21.011407",
     "exception": false,
     "start_time": "2020-09-09T06:52:20.007023",
     "status": "completed"
    },
    "tags": []
   },
   "outputs": [
    {
     "name": "stdout",
     "output_type": "stream",
     "text": [
      "/kaggle/input/netflix-data/IMDb movies.csv\n",
      "/kaggle/input/netflix-data/NetflixViewingHistory.csv\n",
      "/kaggle/input/netflix-data/IMDb ratings.csv\n",
      "/kaggle/input/netflix-data/netflix_titles.csv\n"
     ]
    }
   ],
   "source": [
    "import numpy as np\n",
    "import pandas as pd\n",
    "import os\n",
    "for dirname, _, filenames in os.walk('/kaggle/input'):\n",
    "    for filename in filenames:\n",
    "        print(os.path.join(dirname, filename))\n",
    "import re\n",
    "import calendar\n",
    "import seaborn as sns\n",
    "from matplotlib import pyplot as plt"
   ]
  },
  {
   "cell_type": "code",
   "execution_count": 2,
   "metadata": {
    "_cell_guid": "79c7e3d0-c299-4dcb-8224-4455121ee9b0",
    "_uuid": "d629ff2d2480ee46fbb7e2d37f6b5fab8052498a",
    "execution": {
     "iopub.execute_input": "2020-09-09T06:52:21.045323Z",
     "iopub.status.busy": "2020-09-09T06:52:21.044584Z",
     "iopub.status.idle": "2020-09-09T06:52:21.130572Z",
     "shell.execute_reply": "2020-09-09T06:52:21.129800Z"
    },
    "papermill": {
     "duration": 0.106678,
     "end_time": "2020-09-09T06:52:21.130742",
     "exception": false,
     "start_time": "2020-09-09T06:52:21.024064",
     "status": "completed"
    },
    "tags": []
   },
   "outputs": [],
   "source": [
    "history = pd.read_csv('/kaggle/input/netflix-data/NetflixViewingHistory.csv')\n",
    "netflix_data = pd.read_csv('/kaggle/input/netflix-data/netflix_titles.csv')"
   ]
  },
  {
   "cell_type": "code",
   "execution_count": 3,
   "metadata": {
    "execution": {
     "iopub.execute_input": "2020-09-09T06:52:21.162760Z",
     "iopub.status.busy": "2020-09-09T06:52:21.161729Z",
     "iopub.status.idle": "2020-09-09T06:52:21.165303Z",
     "shell.execute_reply": "2020-09-09T06:52:21.164576Z"
    },
    "papermill": {
     "duration": 0.022194,
     "end_time": "2020-09-09T06:52:21.165431",
     "exception": false,
     "start_time": "2020-09-09T06:52:21.143237",
     "status": "completed"
    },
    "tags": []
   },
   "outputs": [],
   "source": [
    "dataset=history\n",
    "sns.set(style=\"whitegrid\")"
   ]
  },
  {
   "cell_type": "markdown",
   "metadata": {
    "papermill": {
     "duration": 0.01266,
     "end_time": "2020-09-09T06:52:21.190840",
     "exception": false,
     "start_time": "2020-09-09T06:52:21.178180",
     "status": "completed"
    },
    "tags": []
   },
   "source": [
    "# Data Pre-Processing"
   ]
  },
  {
   "cell_type": "code",
   "execution_count": 4,
   "metadata": {
    "execution": {
     "iopub.execute_input": "2020-09-09T06:52:21.229821Z",
     "iopub.status.busy": "2020-09-09T06:52:21.229047Z",
     "iopub.status.idle": "2020-09-09T06:52:21.237905Z",
     "shell.execute_reply": "2020-09-09T06:52:21.237289Z"
    },
    "papermill": {
     "duration": 0.034537,
     "end_time": "2020-09-09T06:52:21.238029",
     "exception": false,
     "start_time": "2020-09-09T06:52:21.203492",
     "status": "completed"
    },
    "tags": []
   },
   "outputs": [
    {
     "data": {
      "text/html": [
       "<div>\n",
       "<style scoped>\n",
       "    .dataframe tbody tr th:only-of-type {\n",
       "        vertical-align: middle;\n",
       "    }\n",
       "\n",
       "    .dataframe tbody tr th {\n",
       "        vertical-align: top;\n",
       "    }\n",
       "\n",
       "    .dataframe thead th {\n",
       "        text-align: right;\n",
       "    }\n",
       "</style>\n",
       "<table border=\"1\" class=\"dataframe\">\n",
       "  <thead>\n",
       "    <tr style=\"text-align: right;\">\n",
       "      <th></th>\n",
       "      <th>Title</th>\n",
       "      <th>Date</th>\n",
       "    </tr>\n",
       "  </thead>\n",
       "  <tbody>\n",
       "    <tr>\n",
       "      <th>0</th>\n",
       "      <td>Friends: Season 2: The One Where Old Yeller Dies</td>\n",
       "      <td>05/09/20</td>\n",
       "    </tr>\n",
       "    <tr>\n",
       "      <th>1</th>\n",
       "      <td>Cursed: Season 1: The Fey Queen</td>\n",
       "      <td>05/09/20</td>\n",
       "    </tr>\n",
       "    <tr>\n",
       "      <th>2</th>\n",
       "      <td>Cursed: Season 1: Bring Us In Good Ale</td>\n",
       "      <td>05/09/20</td>\n",
       "    </tr>\n",
       "    <tr>\n",
       "      <th>3</th>\n",
       "      <td>Annihilation</td>\n",
       "      <td>05/09/20</td>\n",
       "    </tr>\n",
       "    <tr>\n",
       "      <th>4</th>\n",
       "      <td>Naruto: Season 8: The Mysterious Curse of the ...</td>\n",
       "      <td>05/09/20</td>\n",
       "    </tr>\n",
       "  </tbody>\n",
       "</table>\n",
       "</div>"
      ],
      "text/plain": [
       "                                               Title      Date\n",
       "0   Friends: Season 2: The One Where Old Yeller Dies  05/09/20\n",
       "1                    Cursed: Season 1: The Fey Queen  05/09/20\n",
       "2             Cursed: Season 1: Bring Us In Good Ale  05/09/20\n",
       "3                                       Annihilation  05/09/20\n",
       "4  Naruto: Season 8: The Mysterious Curse of the ...  05/09/20"
      ]
     },
     "execution_count": 4,
     "metadata": {},
     "output_type": "execute_result"
    }
   ],
   "source": [
    "dataset.head()"
   ]
  },
  {
   "cell_type": "code",
   "execution_count": 5,
   "metadata": {
    "execution": {
     "iopub.execute_input": "2020-09-09T06:52:21.308088Z",
     "iopub.status.busy": "2020-09-09T06:52:21.292519Z",
     "iopub.status.idle": "2020-09-09T06:52:22.127947Z",
     "shell.execute_reply": "2020-09-09T06:52:22.127155Z"
    },
    "papermill": {
     "duration": 0.87709,
     "end_time": "2020-09-09T06:52:22.128070",
     "exception": false,
     "start_time": "2020-09-09T06:52:21.250980",
     "status": "completed"
    },
    "tags": []
   },
   "outputs": [],
   "source": [
    "def title_segmentation(df, col, col2):\n",
    "    index_col = df.columns.get_loc(col)\n",
    "    index_col2 = df.columns.get_loc(col2)\n",
    "    title=\"\"\n",
    "    for rows in range(len(df)):\n",
    "        title = df.iat[rows, index_col]\n",
    "        new_title=\"\"\n",
    "        season=\"\"\n",
    "        count=0\n",
    "        for i in range(len(title)):\n",
    "            if title[i]!=\":\":\n",
    "                if count==0:\n",
    "                    new_title = new_title+title[i]\n",
    "                elif count==1:\n",
    "                    season = season+title[i]\n",
    "                else:\n",
    "                    break\n",
    "            else:\n",
    "                count=count+1\n",
    "                \n",
    "        df.iat[rows, index_col] = new_title\n",
    "        if season==\"\":\n",
    "            season=\"N/A\"\n",
    "        df.iat[rows, index_col2] = season\n",
    "\n",
    "dataset[\"Season\"]=\"\"\n",
    "title_segmentation(dataset, 'Title', 'Season')"
   ]
  },
  {
   "cell_type": "code",
   "execution_count": 6,
   "metadata": {
    "execution": {
     "iopub.execute_input": "2020-09-09T06:52:22.166392Z",
     "iopub.status.busy": "2020-09-09T06:52:22.165328Z",
     "iopub.status.idle": "2020-09-09T06:52:22.169602Z",
     "shell.execute_reply": "2020-09-09T06:52:22.169016Z"
    },
    "papermill": {
     "duration": 0.028395,
     "end_time": "2020-09-09T06:52:22.169748",
     "exception": false,
     "start_time": "2020-09-09T06:52:22.141353",
     "status": "completed"
    },
    "tags": []
   },
   "outputs": [
    {
     "data": {
      "text/html": [
       "<div>\n",
       "<style scoped>\n",
       "    .dataframe tbody tr th:only-of-type {\n",
       "        vertical-align: middle;\n",
       "    }\n",
       "\n",
       "    .dataframe tbody tr th {\n",
       "        vertical-align: top;\n",
       "    }\n",
       "\n",
       "    .dataframe thead th {\n",
       "        text-align: right;\n",
       "    }\n",
       "</style>\n",
       "<table border=\"1\" class=\"dataframe\">\n",
       "  <thead>\n",
       "    <tr style=\"text-align: right;\">\n",
       "      <th></th>\n",
       "      <th>Title</th>\n",
       "      <th>Date</th>\n",
       "      <th>Season</th>\n",
       "    </tr>\n",
       "  </thead>\n",
       "  <tbody>\n",
       "    <tr>\n",
       "      <th>0</th>\n",
       "      <td>Friends</td>\n",
       "      <td>05/09/20</td>\n",
       "      <td>Season 2</td>\n",
       "    </tr>\n",
       "    <tr>\n",
       "      <th>1</th>\n",
       "      <td>Cursed</td>\n",
       "      <td>05/09/20</td>\n",
       "      <td>Season 1</td>\n",
       "    </tr>\n",
       "    <tr>\n",
       "      <th>2</th>\n",
       "      <td>Cursed</td>\n",
       "      <td>05/09/20</td>\n",
       "      <td>Season 1</td>\n",
       "    </tr>\n",
       "    <tr>\n",
       "      <th>3</th>\n",
       "      <td>Annihilation</td>\n",
       "      <td>05/09/20</td>\n",
       "      <td>N/A</td>\n",
       "    </tr>\n",
       "    <tr>\n",
       "      <th>4</th>\n",
       "      <td>Naruto</td>\n",
       "      <td>05/09/20</td>\n",
       "      <td>Season 8</td>\n",
       "    </tr>\n",
       "  </tbody>\n",
       "</table>\n",
       "</div>"
      ],
      "text/plain": [
       "          Title      Date     Season\n",
       "0       Friends  05/09/20   Season 2\n",
       "1        Cursed  05/09/20   Season 1\n",
       "2        Cursed  05/09/20   Season 1\n",
       "3  Annihilation  05/09/20        N/A\n",
       "4        Naruto  05/09/20   Season 8"
      ]
     },
     "execution_count": 6,
     "metadata": {},
     "output_type": "execute_result"
    }
   ],
   "source": [
    "dataset.head()"
   ]
  },
  {
   "cell_type": "markdown",
   "metadata": {
    "papermill": {
     "duration": 0.012825,
     "end_time": "2020-09-09T06:52:22.195743",
     "exception": false,
     "start_time": "2020-09-09T06:52:22.182918",
     "status": "completed"
    },
    "tags": []
   },
   "source": [
    "## Top 10 shows watched"
   ]
  },
  {
   "cell_type": "code",
   "execution_count": 7,
   "metadata": {
    "execution": {
     "iopub.execute_input": "2020-09-09T06:52:22.231264Z",
     "iopub.status.busy": "2020-09-09T06:52:22.228093Z",
     "iopub.status.idle": "2020-09-09T06:52:22.246654Z",
     "shell.execute_reply": "2020-09-09T06:52:22.245896Z"
    },
    "papermill": {
     "duration": 0.037637,
     "end_time": "2020-09-09T06:52:22.246781",
     "exception": false,
     "start_time": "2020-09-09T06:52:22.209144",
     "status": "completed"
    },
    "tags": []
   },
   "outputs": [],
   "source": [
    "dataset['Views_total']=1\n",
    "g=dataset.groupby(['Title'])\n",
    "df=g.sum()"
   ]
  },
  {
   "cell_type": "code",
   "execution_count": 8,
   "metadata": {
    "execution": {
     "iopub.execute_input": "2020-09-09T06:52:22.284419Z",
     "iopub.status.busy": "2020-09-09T06:52:22.283628Z",
     "iopub.status.idle": "2020-09-09T06:52:22.303229Z",
     "shell.execute_reply": "2020-09-09T06:52:22.302591Z"
    },
    "papermill": {
     "duration": 0.043306,
     "end_time": "2020-09-09T06:52:22.303359",
     "exception": false,
     "start_time": "2020-09-09T06:52:22.260053",
     "status": "completed"
    },
    "tags": []
   },
   "outputs": [],
   "source": [
    "drop=['Season','Date','Views_total']\n",
    "dummy = dataset.drop(drop,axis=1)\n",
    "dummy = pd.merge(df,dummy, on='Title', how='inner')\n",
    "dummy = dummy.drop_duplicates()"
   ]
  },
  {
   "cell_type": "code",
   "execution_count": 9,
   "metadata": {
    "execution": {
     "iopub.execute_input": "2020-09-09T06:52:22.337945Z",
     "iopub.status.busy": "2020-09-09T06:52:22.336836Z",
     "iopub.status.idle": "2020-09-09T06:52:22.350041Z",
     "shell.execute_reply": "2020-09-09T06:52:22.349380Z"
    },
    "papermill": {
     "duration": 0.033482,
     "end_time": "2020-09-09T06:52:22.350174",
     "exception": false,
     "start_time": "2020-09-09T06:52:22.316692",
     "status": "completed"
    },
    "tags": []
   },
   "outputs": [
    {
     "name": "stdout",
     "output_type": "stream",
     "text": [
      "Top 10 shows watched:\n"
     ]
    },
    {
     "data": {
      "text/html": [
       "<div>\n",
       "<style scoped>\n",
       "    .dataframe tbody tr th:only-of-type {\n",
       "        vertical-align: middle;\n",
       "    }\n",
       "\n",
       "    .dataframe tbody tr th {\n",
       "        vertical-align: top;\n",
       "    }\n",
       "\n",
       "    .dataframe thead th {\n",
       "        text-align: right;\n",
       "    }\n",
       "</style>\n",
       "<table border=\"1\" class=\"dataframe\">\n",
       "  <thead>\n",
       "    <tr style=\"text-align: right;\">\n",
       "      <th></th>\n",
       "      <th>Title</th>\n",
       "      <th>Views_total</th>\n",
       "    </tr>\n",
       "  </thead>\n",
       "  <tbody>\n",
       "    <tr>\n",
       "      <th>5421</th>\n",
       "      <td>The Big Bang Theory</td>\n",
       "      <td>279</td>\n",
       "    </tr>\n",
       "    <tr>\n",
       "      <th>1551</th>\n",
       "      <td>Friends</td>\n",
       "      <td>234</td>\n",
       "    </tr>\n",
       "    <tr>\n",
       "      <th>3774</th>\n",
       "      <td>Naruto</td>\n",
       "      <td>194</td>\n",
       "    </tr>\n",
       "    <tr>\n",
       "      <th>261</th>\n",
       "      <td>Arrow</td>\n",
       "      <td>160</td>\n",
       "    </tr>\n",
       "    <tr>\n",
       "      <th>4333</th>\n",
       "      <td>Pretty Little Liars</td>\n",
       "      <td>144</td>\n",
       "    </tr>\n",
       "    <tr>\n",
       "      <th>772</th>\n",
       "      <td>Brooklyn Nine-Nine</td>\n",
       "      <td>130</td>\n",
       "    </tr>\n",
       "    <tr>\n",
       "      <th>2214</th>\n",
       "      <td>Grimm</td>\n",
       "      <td>123</td>\n",
       "    </tr>\n",
       "    <tr>\n",
       "      <th>5118</th>\n",
       "      <td>Suits</td>\n",
       "      <td>121</td>\n",
       "    </tr>\n",
       "    <tr>\n",
       "      <th>1951</th>\n",
       "      <td>Gossip Girl</td>\n",
       "      <td>121</td>\n",
       "    </tr>\n",
       "    <tr>\n",
       "      <th>3232</th>\n",
       "      <td>Marvel's Agents of S.H.I.E.L.D.</td>\n",
       "      <td>118</td>\n",
       "    </tr>\n",
       "  </tbody>\n",
       "</table>\n",
       "</div>"
      ],
      "text/plain": [
       "                                Title  Views_total\n",
       "5421              The Big Bang Theory          279\n",
       "1551                          Friends          234\n",
       "3774                           Naruto          194\n",
       "261                             Arrow          160\n",
       "4333              Pretty Little Liars          144\n",
       "772                Brooklyn Nine-Nine          130\n",
       "2214                            Grimm          123\n",
       "5118                            Suits          121\n",
       "1951                      Gossip Girl          121\n",
       "3232  Marvel's Agents of S.H.I.E.L.D.          118"
      ]
     },
     "execution_count": 9,
     "metadata": {},
     "output_type": "execute_result"
    }
   ],
   "source": [
    "print(\"Top 10 shows watched:\")\n",
    "dummy=dummy.sort_values([\"Views_total\"],ascending=False)\n",
    "df = dummy.head(10)\n",
    "df"
   ]
  },
  {
   "cell_type": "code",
   "execution_count": 10,
   "metadata": {
    "execution": {
     "iopub.execute_input": "2020-09-09T06:52:22.386325Z",
     "iopub.status.busy": "2020-09-09T06:52:22.385479Z",
     "iopub.status.idle": "2020-09-09T06:52:22.711814Z",
     "shell.execute_reply": "2020-09-09T06:52:22.711057Z"
    },
    "papermill": {
     "duration": 0.348001,
     "end_time": "2020-09-09T06:52:22.711939",
     "exception": false,
     "start_time": "2020-09-09T06:52:22.363938",
     "status": "completed"
    },
    "tags": []
   },
   "outputs": [
    {
     "data": {
      "image/png": "[encoded data removed]",
      "text/plain": [
       "<Figure size 720x576 with 1 Axes>"
      ]
     },
     "metadata": {},
     "output_type": "display_data"
    }
   ],
   "source": [
    "dummy=dummy.sort_values([\"Views_total\"],ascending=False)\n",
    "df = dummy.head(10)\n",
    "fig, ax = plt.subplots(figsize=(10, 8))\n",
    "chart = sns.barplot(x=df['Title'],y=df['Views_total'])\n",
    "chart.set_xticklabels(labels=chart.get_xticklabels(),rotation=90, horizontalalignment='left')\n",
    "plt.show()"
   ]
  },
  {
   "cell_type": "markdown",
   "metadata": {
    "papermill": {
     "duration": 0.013582,
     "end_time": "2020-09-09T06:52:22.739736",
     "exception": false,
     "start_time": "2020-09-09T06:52:22.726154",
     "status": "completed"
    },
    "tags": []
   },
   "source": [
    "## Top 10 shows watched(based on seasons)"
   ]
  },
  {
   "cell_type": "code",
   "execution_count": 11,
   "metadata": {
    "execution": {
     "iopub.execute_input": "2020-09-09T06:52:22.778992Z",
     "iopub.status.busy": "2020-09-09T06:52:22.778238Z",
     "iopub.status.idle": "2020-09-09T06:52:22.787728Z",
     "shell.execute_reply": "2020-09-09T06:52:22.786993Z"
    },
    "papermill": {
     "duration": 0.033937,
     "end_time": "2020-09-09T06:52:22.787859",
     "exception": false,
     "start_time": "2020-09-09T06:52:22.753922",
     "status": "completed"
    },
    "tags": []
   },
   "outputs": [],
   "source": [
    "dataset.drop('Views_total',axis=1,inplace=True)\n",
    "dataset['Views_season']=1\n",
    "g=dataset.groupby(['Title','Season'])\n",
    "df=g.sum()"
   ]
  },
  {
   "cell_type": "code",
   "execution_count": 12,
   "metadata": {
    "execution": {
     "iopub.execute_input": "2020-09-09T06:52:22.827165Z",
     "iopub.status.busy": "2020-09-09T06:52:22.826359Z",
     "iopub.status.idle": "2020-09-09T06:52:22.842760Z",
     "shell.execute_reply": "2020-09-09T06:52:22.843337Z"
    },
    "papermill": {
     "duration": 0.041398,
     "end_time": "2020-09-09T06:52:22.843527",
     "exception": false,
     "start_time": "2020-09-09T06:52:22.802129",
     "status": "completed"
    },
    "tags": []
   },
   "outputs": [],
   "source": [
    "drop=['Date','Views_season']\n",
    "dummy = dataset.drop(drop,axis=1)\n",
    "on=['Title','Season']\n",
    "dummy = pd.merge(df,dummy, on=on, how='inner')\n",
    "dummy = dummy.drop_duplicates()"
   ]
  },
  {
   "cell_type": "code",
   "execution_count": 13,
   "metadata": {
    "execution": {
     "iopub.execute_input": "2020-09-09T06:52:22.878309Z",
     "iopub.status.busy": "2020-09-09T06:52:22.877232Z",
     "iopub.status.idle": "2020-09-09T06:52:22.882091Z",
     "shell.execute_reply": "2020-09-09T06:52:22.881344Z"
    },
    "papermill": {
     "duration": 0.024414,
     "end_time": "2020-09-09T06:52:22.882211",
     "exception": false,
     "start_time": "2020-09-09T06:52:22.857797",
     "status": "completed"
    },
    "tags": []
   },
   "outputs": [],
   "source": [
    "dummy=dummy.sort_values([\"Views_season\"],ascending=False)\n",
    "df=dummy.head(10)"
   ]
  },
  {
   "cell_type": "code",
   "execution_count": 14,
   "metadata": {
    "execution": {
     "iopub.execute_input": "2020-09-09T06:52:22.922893Z",
     "iopub.status.busy": "2020-09-09T06:52:22.921972Z",
     "iopub.status.idle": "2020-09-09T06:52:22.927960Z",
     "shell.execute_reply": "2020-09-09T06:52:22.927213Z"
    },
    "papermill": {
     "duration": 0.031639,
     "end_time": "2020-09-09T06:52:22.928084",
     "exception": false,
     "start_time": "2020-09-09T06:52:22.896445",
     "status": "completed"
    },
    "tags": []
   },
   "outputs": [
    {
     "name": "stdout",
     "output_type": "stream",
     "text": [
      "Top 10 shows watched according to season:\n"
     ]
    },
    {
     "data": {
      "text/html": [
       "<div>\n",
       "<style scoped>\n",
       "    .dataframe tbody tr th:only-of-type {\n",
       "        vertical-align: middle;\n",
       "    }\n",
       "\n",
       "    .dataframe tbody tr th {\n",
       "        vertical-align: top;\n",
       "    }\n",
       "\n",
       "    .dataframe thead th {\n",
       "        text-align: right;\n",
       "    }\n",
       "</style>\n",
       "<table border=\"1\" class=\"dataframe\">\n",
       "  <thead>\n",
       "    <tr style=\"text-align: right;\">\n",
       "      <th></th>\n",
       "      <th>Title</th>\n",
       "      <th>Season</th>\n",
       "      <th>Views_season</th>\n",
       "    </tr>\n",
       "  </thead>\n",
       "  <tbody>\n",
       "    <tr>\n",
       "      <th>2600</th>\n",
       "      <td>Inazuma Eleven</td>\n",
       "      <td>Season 1</td>\n",
       "      <td>65</td>\n",
       "    </tr>\n",
       "    <tr>\n",
       "      <th>4924</th>\n",
       "      <td>Shadowhunters</td>\n",
       "      <td>The Mortal Instruments</td>\n",
       "      <td>55</td>\n",
       "    </tr>\n",
       "    <tr>\n",
       "      <th>2701</th>\n",
       "      <td>Iron Man</td>\n",
       "      <td>Armored Adventures</td>\n",
       "      <td>52</td>\n",
       "    </tr>\n",
       "    <tr>\n",
       "      <th>1452</th>\n",
       "      <td>Fairy Tail</td>\n",
       "      <td>Season 1</td>\n",
       "      <td>37</td>\n",
       "    </tr>\n",
       "    <tr>\n",
       "      <th>164</th>\n",
       "      <td>Accidentally in Love</td>\n",
       "      <td>Season 1</td>\n",
       "      <td>30</td>\n",
       "    </tr>\n",
       "    <tr>\n",
       "      <th>3880</th>\n",
       "      <td>Naruto</td>\n",
       "      <td>Season 5</td>\n",
       "      <td>29</td>\n",
       "    </tr>\n",
       "    <tr>\n",
       "      <th>3826</th>\n",
       "      <td>Naruto</td>\n",
       "      <td>Season 3</td>\n",
       "      <td>28</td>\n",
       "    </tr>\n",
       "    <tr>\n",
       "      <th>1074</th>\n",
       "      <td>DEATH NOTE</td>\n",
       "      <td>Season 1</td>\n",
       "      <td>27</td>\n",
       "    </tr>\n",
       "    <tr>\n",
       "      <th>4287</th>\n",
       "      <td>Power Rangers S.P.D.</td>\n",
       "      <td>Season 1</td>\n",
       "      <td>27</td>\n",
       "    </tr>\n",
       "    <tr>\n",
       "      <th>1196</th>\n",
       "      <td>Demon Slayer</td>\n",
       "      <td>Kimetsu no Yaiba</td>\n",
       "      <td>26</td>\n",
       "    </tr>\n",
       "  </tbody>\n",
       "</table>\n",
       "</div>"
      ],
      "text/plain": [
       "                     Title                   Season  Views_season\n",
       "2600        Inazuma Eleven                 Season 1            65\n",
       "4924         Shadowhunters   The Mortal Instruments            55\n",
       "2701              Iron Man       Armored Adventures            52\n",
       "1452            Fairy Tail                 Season 1            37\n",
       "164   Accidentally in Love                 Season 1            30\n",
       "3880                Naruto                 Season 5            29\n",
       "3826                Naruto                 Season 3            28\n",
       "1074            DEATH NOTE                 Season 1            27\n",
       "4287  Power Rangers S.P.D.                 Season 1            27\n",
       "1196          Demon Slayer         Kimetsu no Yaiba            26"
      ]
     },
     "execution_count": 14,
     "metadata": {},
     "output_type": "execute_result"
    }
   ],
   "source": [
    "print(\"Top 10 shows watched according to season:\")\n",
    "df"
   ]
  },
  {
   "cell_type": "code",
   "execution_count": 15,
   "metadata": {
    "execution": {
     "iopub.execute_input": "2020-09-09T06:52:22.965542Z",
     "iopub.status.busy": "2020-09-09T06:52:22.964661Z",
     "iopub.status.idle": "2020-09-09T06:52:23.309876Z",
     "shell.execute_reply": "2020-09-09T06:52:23.310418Z"
    },
    "papermill": {
     "duration": 0.36785,
     "end_time": "2020-09-09T06:52:23.310580",
     "exception": false,
     "start_time": "2020-09-09T06:52:22.942730",
     "status": "completed"
    },
    "tags": []
   },
   "outputs": [
    {
     "data": {
      "image/png": "[encoded data removed]",
      "text/plain": [
       "<Figure size 720x576 with 1 Axes>"
      ]
     },
     "metadata": {},
     "output_type": "display_data"
    }
   ],
   "source": [
    "dummy=dummy.sort_values([\"Views_season\"],ascending=False)\n",
    "fig, ax = plt.subplots(figsize=(10, 8))\n",
    "chart=sns.barplot(x=df['Title'],y=df['Views_season'])\n",
    "chart.set_xticklabels(labels=chart.get_xticklabels(),rotation=90, horizontalalignment='left')\n",
    "plt.show()"
   ]
  },
  {
   "cell_type": "code",
   "execution_count": 16,
   "metadata": {
    "execution": {
     "iopub.execute_input": "2020-09-09T06:52:23.358885Z",
     "iopub.status.busy": "2020-09-09T06:52:23.358097Z",
     "iopub.status.idle": "2020-09-09T06:52:23.372693Z",
     "shell.execute_reply": "2020-09-09T06:52:23.371815Z"
    },
    "papermill": {
     "duration": 0.045994,
     "end_time": "2020-09-09T06:52:23.372861",
     "exception": false,
     "start_time": "2020-09-09T06:52:23.326867",
     "status": "completed"
    },
    "tags": []
   },
   "outputs": [],
   "source": [
    "dataset.drop('Views_season', axis=1, inplace=True)\n",
    "dataset['Views_total']=1\n",
    "g=history.groupby(['Title'])\n",
    "df=g.sum()\n",
    "dataset.drop('Views_total', axis=1, inplace=True)\n",
    "dataset=pd.merge(dataset,df,on='Title',how='inner')"
   ]
  },
  {
   "cell_type": "code",
   "execution_count": 17,
   "metadata": {
    "execution": {
     "iopub.execute_input": "2020-09-09T06:52:23.458567Z",
     "iopub.status.busy": "2020-09-09T06:52:23.448274Z",
     "iopub.status.idle": "2020-09-09T06:52:24.226222Z",
     "shell.execute_reply": "2020-09-09T06:52:24.225431Z"
    },
    "papermill": {
     "duration": 0.833962,
     "end_time": "2020-09-09T06:52:24.226354",
     "exception": false,
     "start_time": "2020-09-09T06:52:23.392392",
     "status": "completed"
    },
    "tags": []
   },
   "outputs": [],
   "source": [
    "def date_segmentation(df, col, col2, col3):\n",
    "    index_col = df.columns.get_loc(col)\n",
    "    index_col2 = df.columns.get_loc(col2)\n",
    "    index_col3 = df.columns.get_loc(col3)\n",
    "    for rows in range(len(df)):\n",
    "        date = df.iat[rows, index_col]\n",
    "        m=\"\"\n",
    "        d=\"\"\n",
    "        count=0\n",
    "        for i in range(len(date)):\n",
    "            if date[i]!='/':\n",
    "                if count==0:\n",
    "                    d=d+date[i]\n",
    "                elif count==1:\n",
    "                    m=m+date[i]\n",
    "                else:\n",
    "                    break\n",
    "            else:\n",
    "                count=count+1\n",
    "                if count==1:\n",
    "                    df.iat[rows, index_col2]=int(d)\n",
    "                else:\n",
    "                    df.iat[rows, index_col3]=int(m)\n",
    "        \n",
    "        \n",
    "dataset['Day']=0\n",
    "dataset['Month']=0\n",
    "date_segmentation(dataset, 'Date', 'Day', 'Month')"
   ]
  },
  {
   "cell_type": "code",
   "execution_count": 18,
   "metadata": {
    "execution": {
     "iopub.execute_input": "2020-09-09T06:52:24.281674Z",
     "iopub.status.busy": "2020-09-09T06:52:24.280656Z",
     "iopub.status.idle": "2020-09-09T06:52:24.290443Z",
     "shell.execute_reply": "2020-09-09T06:52:24.291205Z"
    },
    "papermill": {
     "duration": 0.045694,
     "end_time": "2020-09-09T06:52:24.291421",
     "exception": false,
     "start_time": "2020-09-09T06:52:24.245727",
     "status": "completed"
    },
    "tags": []
   },
   "outputs": [
    {
     "data": {
      "text/html": [
       "<div>\n",
       "<style scoped>\n",
       "    .dataframe tbody tr th:only-of-type {\n",
       "        vertical-align: middle;\n",
       "    }\n",
       "\n",
       "    .dataframe tbody tr th {\n",
       "        vertical-align: top;\n",
       "    }\n",
       "\n",
       "    .dataframe thead th {\n",
       "        text-align: right;\n",
       "    }\n",
       "</style>\n",
       "<table border=\"1\" class=\"dataframe\">\n",
       "  <thead>\n",
       "    <tr style=\"text-align: right;\">\n",
       "      <th></th>\n",
       "      <th>Title</th>\n",
       "      <th>Date</th>\n",
       "      <th>Season</th>\n",
       "      <th>Views_total</th>\n",
       "      <th>Day</th>\n",
       "      <th>Month</th>\n",
       "    </tr>\n",
       "  </thead>\n",
       "  <tbody>\n",
       "    <tr>\n",
       "      <th>0</th>\n",
       "      <td>Friends</td>\n",
       "      <td>05/09/20</td>\n",
       "      <td>Season 2</td>\n",
       "      <td>234</td>\n",
       "      <td>5</td>\n",
       "      <td>9</td>\n",
       "    </tr>\n",
       "    <tr>\n",
       "      <th>1</th>\n",
       "      <td>Friends</td>\n",
       "      <td>04/09/20</td>\n",
       "      <td>Season 2</td>\n",
       "      <td>234</td>\n",
       "      <td>4</td>\n",
       "      <td>9</td>\n",
       "    </tr>\n",
       "    <tr>\n",
       "      <th>2</th>\n",
       "      <td>Friends</td>\n",
       "      <td>03/09/20</td>\n",
       "      <td>Season 2</td>\n",
       "      <td>234</td>\n",
       "      <td>3</td>\n",
       "      <td>9</td>\n",
       "    </tr>\n",
       "    <tr>\n",
       "      <th>3</th>\n",
       "      <td>Friends</td>\n",
       "      <td>02/09/20</td>\n",
       "      <td>Season 2</td>\n",
       "      <td>234</td>\n",
       "      <td>2</td>\n",
       "      <td>9</td>\n",
       "    </tr>\n",
       "    <tr>\n",
       "      <th>4</th>\n",
       "      <td>Friends</td>\n",
       "      <td>01/09/20</td>\n",
       "      <td>Season 2</td>\n",
       "      <td>234</td>\n",
       "      <td>1</td>\n",
       "      <td>9</td>\n",
       "    </tr>\n",
       "  </tbody>\n",
       "</table>\n",
       "</div>"
      ],
      "text/plain": [
       "     Title      Date     Season  Views_total  Day  Month\n",
       "0  Friends  05/09/20   Season 2          234    5      9\n",
       "1  Friends  04/09/20   Season 2          234    4      9\n",
       "2  Friends  03/09/20   Season 2          234    3      9\n",
       "3  Friends  02/09/20   Season 2          234    2      9\n",
       "4  Friends  01/09/20   Season 2          234    1      9"
      ]
     },
     "execution_count": 18,
     "metadata": {},
     "output_type": "execute_result"
    }
   ],
   "source": [
    "dataset.head()"
   ]
  },
  {
   "cell_type": "code",
   "execution_count": 19,
   "metadata": {
    "execution": {
     "iopub.execute_input": "2020-09-09T06:52:24.386908Z",
     "iopub.status.busy": "2020-09-09T06:52:24.355766Z",
     "iopub.status.idle": "2020-09-09T06:52:24.523379Z",
     "shell.execute_reply": "2020-09-09T06:52:24.522535Z"
    },
    "papermill": {
     "duration": 0.197129,
     "end_time": "2020-09-09T06:52:24.523551",
     "exception": false,
     "start_time": "2020-09-09T06:52:24.326422",
     "status": "completed"
    },
    "tags": []
   },
   "outputs": [],
   "source": [
    "dataset['Date']=pd.to_datetime(dataset['Date'])\n",
    "dataset['Year'] = pd.DatetimeIndex(dataset['Date']).year"
   ]
  },
  {
   "cell_type": "code",
   "execution_count": 20,
   "metadata": {
    "execution": {
     "iopub.execute_input": "2020-09-09T06:52:24.620666Z",
     "iopub.status.busy": "2020-09-09T06:52:24.580938Z",
     "iopub.status.idle": "2020-09-09T06:52:27.945422Z",
     "shell.execute_reply": "2020-09-09T06:52:27.944773Z"
    },
    "papermill": {
     "duration": 3.400597,
     "end_time": "2020-09-09T06:52:27.945546",
     "exception": false,
     "start_time": "2020-09-09T06:52:24.544949",
     "status": "completed"
    },
    "tags": []
   },
   "outputs": [],
   "source": [
    "# Function to convert month number to month names\n",
    "\n",
    "def month_converter(df, col, col2):\n",
    "    index_col = df.columns.get_loc(col)\n",
    "    index_col2 = df.columns.get_loc(col2)\n",
    "    for rows in range(len(df)):\n",
    "        month = df.iat[rows, index_col]\n",
    "        \n",
    "        if df.iat[rows,index_col]==1:\n",
    "            df.iat[rows, index_col2]=\"January\"\n",
    "        if df.iat[rows,index_col]==2:\n",
    "            df.iat[rows, index_col2]=\"February\"\n",
    "        if df.iat[rows,index_col]==3:\n",
    "            df.iat[rows, index_col2]=\"March\"\n",
    "        if df.iat[rows,index_col]==4:\n",
    "            df.iat[rows, index_col2]=\"April\"\n",
    "        if df.iat[rows,index_col]==5:\n",
    "            df.iat[rows, index_col2]=\"May\"\n",
    "        if df.iat[rows,index_col]==6:\n",
    "            df.iat[rows, index_col2]=\"June\"\n",
    "        if df.iat[rows,index_col]==7:\n",
    "            df.iat[rows, index_col2]=\"July\"\n",
    "        if df.iat[rows,index_col]==8:\n",
    "            df.iat[rows, index_col2]=\"August\"\n",
    "        if df.iat[rows,index_col]==9:\n",
    "            df.iat[rows, index_col2]=\"September\"\n",
    "        if df.iat[rows,index_col]==10:\n",
    "            df.iat[rows, index_col2]=\"October\"\n",
    "        if df.iat[rows,index_col]==11:\n",
    "            df.iat[rows, index_col2]=\"November\"\n",
    "        if df.iat[rows,index_col]==12:\n",
    "            df.iat[rows, index_col2]=\"December\"\n",
    "\n",
    "dataset['Month_Name']=\"\"\n",
    "month_converter(dataset, 'Month', 'Month_Name')"
   ]
  },
  {
   "cell_type": "code",
   "execution_count": 21,
   "metadata": {
    "execution": {
     "iopub.execute_input": "2020-09-09T06:52:27.995198Z",
     "iopub.status.busy": "2020-09-09T06:52:27.994151Z",
     "iopub.status.idle": "2020-09-09T06:52:28.000873Z",
     "shell.execute_reply": "2020-09-09T06:52:27.999925Z"
    },
    "papermill": {
     "duration": 0.039934,
     "end_time": "2020-09-09T06:52:28.001036",
     "exception": false,
     "start_time": "2020-09-09T06:52:27.961102",
     "status": "completed"
    },
    "tags": []
   },
   "outputs": [
    {
     "data": {
      "text/html": [
       "<div>\n",
       "<style scoped>\n",
       "    .dataframe tbody tr th:only-of-type {\n",
       "        vertical-align: middle;\n",
       "    }\n",
       "\n",
       "    .dataframe tbody tr th {\n",
       "        vertical-align: top;\n",
       "    }\n",
       "\n",
       "    .dataframe thead th {\n",
       "        text-align: right;\n",
       "    }\n",
       "</style>\n",
       "<table border=\"1\" class=\"dataframe\">\n",
       "  <thead>\n",
       "    <tr style=\"text-align: right;\">\n",
       "      <th></th>\n",
       "      <th>Title</th>\n",
       "      <th>Date</th>\n",
       "      <th>Season</th>\n",
       "      <th>Views_total</th>\n",
       "      <th>Day</th>\n",
       "      <th>Month</th>\n",
       "      <th>Year</th>\n",
       "      <th>Month_Name</th>\n",
       "    </tr>\n",
       "  </thead>\n",
       "  <tbody>\n",
       "    <tr>\n",
       "      <th>0</th>\n",
       "      <td>Friends</td>\n",
       "      <td>2020-05-09</td>\n",
       "      <td>Season 2</td>\n",
       "      <td>234</td>\n",
       "      <td>5</td>\n",
       "      <td>9</td>\n",
       "      <td>2020</td>\n",
       "      <td>September</td>\n",
       "    </tr>\n",
       "    <tr>\n",
       "      <th>1</th>\n",
       "      <td>Friends</td>\n",
       "      <td>2020-04-09</td>\n",
       "      <td>Season 2</td>\n",
       "      <td>234</td>\n",
       "      <td>4</td>\n",
       "      <td>9</td>\n",
       "      <td>2020</td>\n",
       "      <td>September</td>\n",
       "    </tr>\n",
       "    <tr>\n",
       "      <th>2</th>\n",
       "      <td>Friends</td>\n",
       "      <td>2020-03-09</td>\n",
       "      <td>Season 2</td>\n",
       "      <td>234</td>\n",
       "      <td>3</td>\n",
       "      <td>9</td>\n",
       "      <td>2020</td>\n",
       "      <td>September</td>\n",
       "    </tr>\n",
       "    <tr>\n",
       "      <th>3</th>\n",
       "      <td>Friends</td>\n",
       "      <td>2020-02-09</td>\n",
       "      <td>Season 2</td>\n",
       "      <td>234</td>\n",
       "      <td>2</td>\n",
       "      <td>9</td>\n",
       "      <td>2020</td>\n",
       "      <td>September</td>\n",
       "    </tr>\n",
       "    <tr>\n",
       "      <th>4</th>\n",
       "      <td>Friends</td>\n",
       "      <td>2020-01-09</td>\n",
       "      <td>Season 2</td>\n",
       "      <td>234</td>\n",
       "      <td>1</td>\n",
       "      <td>9</td>\n",
       "      <td>2020</td>\n",
       "      <td>September</td>\n",
       "    </tr>\n",
       "  </tbody>\n",
       "</table>\n",
       "</div>"
      ],
      "text/plain": [
       "     Title       Date     Season  Views_total  Day  Month  Year Month_Name\n",
       "0  Friends 2020-05-09   Season 2          234    5      9  2020  September\n",
       "1  Friends 2020-04-09   Season 2          234    4      9  2020  September\n",
       "2  Friends 2020-03-09   Season 2          234    3      9  2020  September\n",
       "3  Friends 2020-02-09   Season 2          234    2      9  2020  September\n",
       "4  Friends 2020-01-09   Season 2          234    1      9  2020  September"
      ]
     },
     "execution_count": 21,
     "metadata": {},
     "output_type": "execute_result"
    }
   ],
   "source": [
    "dataset.head()"
   ]
  },
  {
   "cell_type": "code",
   "execution_count": 22,
   "metadata": {
    "execution": {
     "iopub.execute_input": "2020-09-09T06:52:28.049203Z",
     "iopub.status.busy": "2020-09-09T06:52:28.046739Z",
     "iopub.status.idle": "2020-09-09T06:52:29.245387Z",
     "shell.execute_reply": "2020-09-09T06:52:29.244698Z"
    },
    "papermill": {
     "duration": 1.224508,
     "end_time": "2020-09-09T06:52:29.245513",
     "exception": false,
     "start_time": "2020-09-09T06:52:28.021005",
     "status": "completed"
    },
    "tags": []
   },
   "outputs": [],
   "source": [
    "# function to convert weekdays to weeknames\n",
    "\n",
    "def day_converter(df,new_col,old_col):\n",
    "    index_old = df.columns.get_loc(old_col)\n",
    "    index_new = df.columns.get_loc(new_col)\n",
    "    for row in range(0,len(df)):\n",
    "        df.iat[row,index_new]=calendar.day_name[df.iat[row, index_old].weekday()]\n",
    "        \n",
    "dataset['Day_Name']=\"\"\n",
    "dataset['Date']=pd.to_datetime(history['Date'])\n",
    "day_converter(dataset,'Day_Name','Date')"
   ]
  },
  {
   "cell_type": "code",
   "execution_count": 23,
   "metadata": {
    "execution": {
     "iopub.execute_input": "2020-09-09T06:52:29.298547Z",
     "iopub.status.busy": "2020-09-09T06:52:29.297545Z",
     "iopub.status.idle": "2020-09-09T06:52:29.301973Z",
     "shell.execute_reply": "2020-09-09T06:52:29.302503Z"
    },
    "papermill": {
     "duration": 0.039935,
     "end_time": "2020-09-09T06:52:29.302691",
     "exception": false,
     "start_time": "2020-09-09T06:52:29.262756",
     "status": "completed"
    },
    "tags": []
   },
   "outputs": [
    {
     "data": {
      "text/html": [
       "<div>\n",
       "<style scoped>\n",
       "    .dataframe tbody tr th:only-of-type {\n",
       "        vertical-align: middle;\n",
       "    }\n",
       "\n",
       "    .dataframe tbody tr th {\n",
       "        vertical-align: top;\n",
       "    }\n",
       "\n",
       "    .dataframe thead th {\n",
       "        text-align: right;\n",
       "    }\n",
       "</style>\n",
       "<table border=\"1\" class=\"dataframe\">\n",
       "  <thead>\n",
       "    <tr style=\"text-align: right;\">\n",
       "      <th></th>\n",
       "      <th>Title</th>\n",
       "      <th>Date</th>\n",
       "      <th>Season</th>\n",
       "      <th>Views_total</th>\n",
       "      <th>Day</th>\n",
       "      <th>Month</th>\n",
       "      <th>Year</th>\n",
       "      <th>Month_Name</th>\n",
       "      <th>Day_Name</th>\n",
       "    </tr>\n",
       "  </thead>\n",
       "  <tbody>\n",
       "    <tr>\n",
       "      <th>0</th>\n",
       "      <td>Friends</td>\n",
       "      <td>2020-05-09</td>\n",
       "      <td>Season 2</td>\n",
       "      <td>234</td>\n",
       "      <td>5</td>\n",
       "      <td>9</td>\n",
       "      <td>2020</td>\n",
       "      <td>September</td>\n",
       "      <td>Saturday</td>\n",
       "    </tr>\n",
       "    <tr>\n",
       "      <th>1</th>\n",
       "      <td>Friends</td>\n",
       "      <td>2020-05-09</td>\n",
       "      <td>Season 2</td>\n",
       "      <td>234</td>\n",
       "      <td>4</td>\n",
       "      <td>9</td>\n",
       "      <td>2020</td>\n",
       "      <td>September</td>\n",
       "      <td>Saturday</td>\n",
       "    </tr>\n",
       "    <tr>\n",
       "      <th>2</th>\n",
       "      <td>Friends</td>\n",
       "      <td>2020-05-09</td>\n",
       "      <td>Season 2</td>\n",
       "      <td>234</td>\n",
       "      <td>3</td>\n",
       "      <td>9</td>\n",
       "      <td>2020</td>\n",
       "      <td>September</td>\n",
       "      <td>Saturday</td>\n",
       "    </tr>\n",
       "    <tr>\n",
       "      <th>3</th>\n",
       "      <td>Friends</td>\n",
       "      <td>2020-05-09</td>\n",
       "      <td>Season 2</td>\n",
       "      <td>234</td>\n",
       "      <td>2</td>\n",
       "      <td>9</td>\n",
       "      <td>2020</td>\n",
       "      <td>September</td>\n",
       "      <td>Saturday</td>\n",
       "    </tr>\n",
       "    <tr>\n",
       "      <th>4</th>\n",
       "      <td>Friends</td>\n",
       "      <td>2020-05-09</td>\n",
       "      <td>Season 2</td>\n",
       "      <td>234</td>\n",
       "      <td>1</td>\n",
       "      <td>9</td>\n",
       "      <td>2020</td>\n",
       "      <td>September</td>\n",
       "      <td>Saturday</td>\n",
       "    </tr>\n",
       "  </tbody>\n",
       "</table>\n",
       "</div>"
      ],
      "text/plain": [
       "     Title       Date     Season  Views_total  Day  Month  Year Month_Name  \\\n",
       "0  Friends 2020-05-09   Season 2          234    5      9  2020  September   \n",
       "1  Friends 2020-05-09   Season 2          234    4      9  2020  September   \n",
       "2  Friends 2020-05-09   Season 2          234    3      9  2020  September   \n",
       "3  Friends 2020-05-09   Season 2          234    2      9  2020  September   \n",
       "4  Friends 2020-05-09   Season 2          234    1      9  2020  September   \n",
       "\n",
       "   Day_Name  \n",
       "0  Saturday  \n",
       "1  Saturday  \n",
       "2  Saturday  \n",
       "3  Saturday  \n",
       "4  Saturday  "
      ]
     },
     "execution_count": 23,
     "metadata": {},
     "output_type": "execute_result"
    }
   ],
   "source": [
    "dataset.head()"
   ]
  },
  {
   "cell_type": "markdown",
   "metadata": {
    "papermill": {
     "duration": 0.017669,
     "end_time": "2020-09-09T06:52:29.336962",
     "exception": false,
     "start_time": "2020-09-09T06:52:29.319293",
     "status": "completed"
    },
    "tags": []
   },
   "source": [
    "## Plot to comapare yearly views since 2016"
   ]
  },
  {
   "cell_type": "code",
   "execution_count": 24,
   "metadata": {
    "execution": {
     "iopub.execute_input": "2020-09-09T06:52:29.378413Z",
     "iopub.status.busy": "2020-09-09T06:52:29.377293Z",
     "iopub.status.idle": "2020-09-09T06:52:29.387410Z",
     "shell.execute_reply": "2020-09-09T06:52:29.386728Z"
    },
    "papermill": {
     "duration": 0.034124,
     "end_time": "2020-09-09T06:52:29.387527",
     "exception": false,
     "start_time": "2020-09-09T06:52:29.353403",
     "status": "completed"
    },
    "tags": []
   },
   "outputs": [],
   "source": [
    "df = dataset\n",
    "drop = ['Date', 'Season', 'Views_total', 'Day',\n",
    "       'Month', 'Month_Name', 'Day_Name']\n",
    "df=df.drop(drop,axis=1)\n",
    "df['Yearly Views'] = 1\n",
    "g=df.groupby(['Year'])\n",
    "df2=g.sum()"
   ]
  },
  {
   "cell_type": "code",
   "execution_count": 25,
   "metadata": {
    "execution": {
     "iopub.execute_input": "2020-09-09T06:52:29.430536Z",
     "iopub.status.busy": "2020-09-09T06:52:29.428539Z",
     "iopub.status.idle": "2020-09-09T06:52:29.852260Z",
     "shell.execute_reply": "2020-09-09T06:52:29.851240Z"
    },
    "papermill": {
     "duration": 0.447826,
     "end_time": "2020-09-09T06:52:29.852425",
     "exception": false,
     "start_time": "2020-09-09T06:52:29.404599",
     "status": "completed"
    },
    "tags": []
   },
   "outputs": [
    {
     "data": {
      "image/png": "[encoded data removed]",
      "text/plain": [
       "<Figure size 432x288 with 1 Axes>"
      ]
     },
     "metadata": {},
     "output_type": "display_data"
    }
   ],
   "source": [
    "on=['Year']\n",
    "df.drop('Yearly Views',axis=1,inplace=True)\n",
    "dummy=pd.merge(df,df2,on=on, how='inner')\n",
    "chart = sns.barplot(x=dummy['Year'], y=dummy['Yearly Views'])"
   ]
  },
  {
   "cell_type": "markdown",
   "metadata": {
    "papermill": {
     "duration": 0.016225,
     "end_time": "2020-09-09T06:52:29.887573",
     "exception": false,
     "start_time": "2020-09-09T06:52:29.871348",
     "status": "completed"
    },
    "tags": []
   },
   "source": [
    "## Plot to compare monthly views since 2016"
   ]
  },
  {
   "cell_type": "code",
   "execution_count": 26,
   "metadata": {
    "execution": {
     "iopub.execute_input": "2020-09-09T06:52:29.934929Z",
     "iopub.status.busy": "2020-09-09T06:52:29.931764Z",
     "iopub.status.idle": "2020-09-09T06:52:29.938406Z",
     "shell.execute_reply": "2020-09-09T06:52:29.937459Z"
    },
    "papermill": {
     "duration": 0.034491,
     "end_time": "2020-09-09T06:52:29.938578",
     "exception": false,
     "start_time": "2020-09-09T06:52:29.904087",
     "status": "completed"
    },
    "tags": []
   },
   "outputs": [],
   "source": [
    "df = dataset\n",
    "drop = ['Date', 'Season', 'Views_total', 'Day',\n",
    "       'Month', 'Day_Name']\n",
    "df=df.drop(drop,axis=1)\n",
    "df['Monthly Views'] = 1\n",
    "g=df.groupby(['Year','Month_Name'])\n",
    "df2=g.sum()"
   ]
  },
  {
   "cell_type": "code",
   "execution_count": 27,
   "metadata": {
    "execution": {
     "iopub.execute_input": "2020-09-09T06:52:29.986725Z",
     "iopub.status.busy": "2020-09-09T06:52:29.985132Z",
     "iopub.status.idle": "2020-09-09T06:52:32.230829Z",
     "shell.execute_reply": "2020-09-09T06:52:32.230227Z"
    },
    "papermill": {
     "duration": 2.27233,
     "end_time": "2020-09-09T06:52:32.230958",
     "exception": false,
     "start_time": "2020-09-09T06:52:29.958628",
     "status": "completed"
    },
    "tags": []
   },
   "outputs": [
    {
     "data": {
      "image/png": "[encoded data removed]",
      "text/plain": [
       "<Figure size 720x576 with 1 Axes>"
      ]
     },
     "metadata": {},
     "output_type": "display_data"
    }
   ],
   "source": [
    "on=['Year','Month_Name']\n",
    "df.drop('Monthly Views',axis=1,inplace=True)\n",
    "dummy=pd.merge(df,df2,on=on, how='inner')\n",
    "fig, ax = plt.subplots(figsize=(10, 8))\n",
    "chart = sns.barplot(x=dummy['Month_Name'], y=dummy['Monthly Views'], hue=dummy['Year'])\n",
    "chart.set_xticklabels(labels=chart.get_xticklabels(),rotation=90, horizontalalignment='left')\n",
    "plt.show()"
   ]
  },
  {
   "cell_type": "markdown",
   "metadata": {
    "papermill": {
     "duration": 0.024757,
     "end_time": "2020-09-09T06:52:32.275704",
     "exception": false,
     "start_time": "2020-09-09T06:52:32.250947",
     "status": "completed"
    },
    "tags": []
   },
   "source": [
    "# Data Engineering-Movies"
   ]
  },
  {
   "cell_type": "code",
   "execution_count": 28,
   "metadata": {
    "execution": {
     "iopub.execute_input": "2020-09-09T06:52:32.324329Z",
     "iopub.status.busy": "2020-09-09T06:52:32.323283Z",
     "iopub.status.idle": "2020-09-09T06:52:32.328959Z",
     "shell.execute_reply": "2020-09-09T06:52:32.328255Z"
    },
    "papermill": {
     "duration": 0.028517,
     "end_time": "2020-09-09T06:52:32.329092",
     "exception": false,
     "start_time": "2020-09-09T06:52:32.300575",
     "status": "completed"
    },
    "tags": []
   },
   "outputs": [],
   "source": [
    "netflix_data.head()\n",
    "netflix_data['Title']=netflix_data['title']"
   ]
  },
  {
   "cell_type": "code",
   "execution_count": 29,
   "metadata": {
    "execution": {
     "iopub.execute_input": "2020-09-09T06:52:32.371521Z",
     "iopub.status.busy": "2020-09-09T06:52:32.369262Z",
     "iopub.status.idle": "2020-09-09T06:52:32.391545Z",
     "shell.execute_reply": "2020-09-09T06:52:32.390684Z"
    },
    "papermill": {
     "duration": 0.045261,
     "end_time": "2020-09-09T06:52:32.391729",
     "exception": false,
     "start_time": "2020-09-09T06:52:32.346468",
     "status": "completed"
    },
    "tags": []
   },
   "outputs": [],
   "source": [
    "dataset=pd.merge(dataset,netflix_data,on='Title', how='inner')"
   ]
  },
  {
   "cell_type": "code",
   "execution_count": 30,
   "metadata": {
    "execution": {
     "iopub.execute_input": "2020-09-09T06:52:32.439520Z",
     "iopub.status.busy": "2020-09-09T06:52:32.438764Z",
     "iopub.status.idle": "2020-09-09T06:52:32.447593Z",
     "shell.execute_reply": "2020-09-09T06:52:32.446931Z"
    },
    "papermill": {
     "duration": 0.034943,
     "end_time": "2020-09-09T06:52:32.447737",
     "exception": false,
     "start_time": "2020-09-09T06:52:32.412794",
     "status": "completed"
    },
    "tags": []
   },
   "outputs": [],
   "source": [
    "movies = dataset[dataset['type']==\"Movie\"]"
   ]
  },
  {
   "cell_type": "code",
   "execution_count": 31,
   "metadata": {
    "execution": {
     "iopub.execute_input": "2020-09-09T06:52:32.489590Z",
     "iopub.status.busy": "2020-09-09T06:52:32.488837Z",
     "iopub.status.idle": "2020-09-09T06:52:32.493460Z",
     "shell.execute_reply": "2020-09-09T06:52:32.492745Z"
    },
    "papermill": {
     "duration": 0.028392,
     "end_time": "2020-09-09T06:52:32.493588",
     "exception": false,
     "start_time": "2020-09-09T06:52:32.465196",
     "status": "completed"
    },
    "tags": []
   },
   "outputs": [],
   "source": [
    "drop=['cast','title','show_id','description','type','Season','director','country','duration']\n",
    "movies=movies.drop(drop, axis=1)"
   ]
  },
  {
   "cell_type": "code",
   "execution_count": 32,
   "metadata": {
    "execution": {
     "iopub.execute_input": "2020-09-09T06:52:32.548812Z",
     "iopub.status.busy": "2020-09-09T06:52:32.547947Z",
     "iopub.status.idle": "2020-09-09T06:52:32.554397Z",
     "shell.execute_reply": "2020-09-09T06:52:32.553500Z"
    },
    "papermill": {
     "duration": 0.043239,
     "end_time": "2020-09-09T06:52:32.554531",
     "exception": false,
     "start_time": "2020-09-09T06:52:32.511292",
     "status": "completed"
    },
    "tags": []
   },
   "outputs": [
    {
     "data": {
      "text/html": [
       "<div>\n",
       "<style scoped>\n",
       "    .dataframe tbody tr th:only-of-type {\n",
       "        vertical-align: middle;\n",
       "    }\n",
       "\n",
       "    .dataframe tbody tr th {\n",
       "        vertical-align: top;\n",
       "    }\n",
       "\n",
       "    .dataframe thead th {\n",
       "        text-align: right;\n",
       "    }\n",
       "</style>\n",
       "<table border=\"1\" class=\"dataframe\">\n",
       "  <thead>\n",
       "    <tr style=\"text-align: right;\">\n",
       "      <th></th>\n",
       "      <th>Title</th>\n",
       "      <th>Date</th>\n",
       "      <th>Views_total</th>\n",
       "      <th>Day</th>\n",
       "      <th>Month</th>\n",
       "      <th>Year</th>\n",
       "      <th>Month_Name</th>\n",
       "      <th>Day_Name</th>\n",
       "      <th>date_added</th>\n",
       "      <th>release_year</th>\n",
       "      <th>rating</th>\n",
       "      <th>listed_in</th>\n",
       "    </tr>\n",
       "  </thead>\n",
       "  <tbody>\n",
       "    <tr>\n",
       "      <th>578</th>\n",
       "      <td>Pad Man</td>\n",
       "      <td>2020-07-27</td>\n",
       "      <td>1</td>\n",
       "      <td>2</td>\n",
       "      <td>9</td>\n",
       "      <td>2020</td>\n",
       "      <td>September</td>\n",
       "      <td>Monday</td>\n",
       "      <td>August 21, 2018</td>\n",
       "      <td>2018</td>\n",
       "      <td>PG-13</td>\n",
       "      <td>Dramas, International Movies, Romantic Movies</td>\n",
       "    </tr>\n",
       "    <tr>\n",
       "      <th>579</th>\n",
       "      <td>Swami</td>\n",
       "      <td>2020-07-27</td>\n",
       "      <td>1</td>\n",
       "      <td>2</td>\n",
       "      <td>9</td>\n",
       "      <td>2020</td>\n",
       "      <td>September</td>\n",
       "      <td>Monday</td>\n",
       "      <td>December 31, 2019</td>\n",
       "      <td>1977</td>\n",
       "      <td>TV-PG</td>\n",
       "      <td>Dramas, Independent Movies, International Movies</td>\n",
       "    </tr>\n",
       "    <tr>\n",
       "      <th>585</th>\n",
       "      <td>Queen</td>\n",
       "      <td>2020-07-26</td>\n",
       "      <td>1</td>\n",
       "      <td>31</td>\n",
       "      <td>8</td>\n",
       "      <td>2020</td>\n",
       "      <td>August</td>\n",
       "      <td>Sunday</td>\n",
       "      <td>May 1, 2017</td>\n",
       "      <td>2014</td>\n",
       "      <td>TV-MA</td>\n",
       "      <td>Comedies, Dramas, International Movies</td>\n",
       "    </tr>\n",
       "    <tr>\n",
       "      <th>655</th>\n",
       "      <td>Battle</td>\n",
       "      <td>2020-07-21</td>\n",
       "      <td>1</td>\n",
       "      <td>30</td>\n",
       "      <td>8</td>\n",
       "      <td>2020</td>\n",
       "      <td>August</td>\n",
       "      <td>Tuesday</td>\n",
       "      <td>December 1, 2018</td>\n",
       "      <td>2018</td>\n",
       "      <td>TV-MA</td>\n",
       "      <td>Dramas, International Movies, Romantic Movies</td>\n",
       "    </tr>\n",
       "    <tr>\n",
       "      <th>656</th>\n",
       "      <td>Kabir Singh</td>\n",
       "      <td>2020-07-21</td>\n",
       "      <td>1</td>\n",
       "      <td>30</td>\n",
       "      <td>8</td>\n",
       "      <td>2020</td>\n",
       "      <td>August</td>\n",
       "      <td>Tuesday</td>\n",
       "      <td>September 19, 2019</td>\n",
       "      <td>2019</td>\n",
       "      <td>TV-MA</td>\n",
       "      <td>Dramas, International Movies, Romantic Movies</td>\n",
       "    </tr>\n",
       "  </tbody>\n",
       "</table>\n",
       "</div>"
      ],
      "text/plain": [
       "           Title       Date  Views_total  Day  Month  Year Month_Name  \\\n",
       "578      Pad Man 2020-07-27            1    2      9  2020  September   \n",
       "579        Swami 2020-07-27            1    2      9  2020  September   \n",
       "585        Queen 2020-07-26            1   31      8  2020     August   \n",
       "655       Battle 2020-07-21            1   30      8  2020     August   \n",
       "656  Kabir Singh 2020-07-21            1   30      8  2020     August   \n",
       "\n",
       "    Day_Name          date_added  release_year rating  \\\n",
       "578   Monday     August 21, 2018          2018  PG-13   \n",
       "579   Monday   December 31, 2019          1977  TV-PG   \n",
       "585   Sunday         May 1, 2017          2014  TV-MA   \n",
       "655  Tuesday    December 1, 2018          2018  TV-MA   \n",
       "656  Tuesday  September 19, 2019          2019  TV-MA   \n",
       "\n",
       "                                            listed_in  \n",
       "578     Dramas, International Movies, Romantic Movies  \n",
       "579  Dramas, Independent Movies, International Movies  \n",
       "585            Comedies, Dramas, International Movies  \n",
       "655     Dramas, International Movies, Romantic Movies  \n",
       "656     Dramas, International Movies, Romantic Movies  "
      ]
     },
     "execution_count": 32,
     "metadata": {},
     "output_type": "execute_result"
    }
   ],
   "source": [
    "movies.head()"
   ]
  },
  {
   "cell_type": "code",
   "execution_count": 33,
   "metadata": {
    "execution": {
     "iopub.execute_input": "2020-09-09T06:52:32.597987Z",
     "iopub.status.busy": "2020-09-09T06:52:32.597233Z",
     "iopub.status.idle": "2020-09-09T06:52:33.700823Z",
     "shell.execute_reply": "2020-09-09T06:52:33.699995Z"
    },
    "papermill": {
     "duration": 1.12713,
     "end_time": "2020-09-09T06:52:33.700953",
     "exception": false,
     "start_time": "2020-09-09T06:52:32.573823",
     "status": "completed"
    },
    "tags": []
   },
   "outputs": [],
   "source": [
    "movie_details = pd.read_csv('/kaggle/input/netflix-data/IMDb movies.csv')"
   ]
  },
  {
   "cell_type": "code",
   "execution_count": 34,
   "metadata": {
    "execution": {
     "iopub.execute_input": "2020-09-09T06:52:33.747211Z",
     "iopub.status.busy": "2020-09-09T06:52:33.746483Z",
     "iopub.status.idle": "2020-09-09T06:52:33.749923Z",
     "shell.execute_reply": "2020-09-09T06:52:33.749139Z"
    },
    "papermill": {
     "duration": 0.030782,
     "end_time": "2020-09-09T06:52:33.750054",
     "exception": false,
     "start_time": "2020-09-09T06:52:33.719272",
     "status": "completed"
    },
    "tags": []
   },
   "outputs": [],
   "source": [
    "movie_details['Title']=movie_details['title']"
   ]
  },
  {
   "cell_type": "code",
   "execution_count": 35,
   "metadata": {
    "execution": {
     "iopub.execute_input": "2020-09-09T06:52:33.793271Z",
     "iopub.status.busy": "2020-09-09T06:52:33.792475Z",
     "iopub.status.idle": "2020-09-09T06:52:33.979024Z",
     "shell.execute_reply": "2020-09-09T06:52:33.978371Z"
    },
    "papermill": {
     "duration": 0.210678,
     "end_time": "2020-09-09T06:52:33.979172",
     "exception": false,
     "start_time": "2020-09-09T06:52:33.768494",
     "status": "completed"
    },
    "tags": []
   },
   "outputs": [],
   "source": [
    "movies=pd.merge(movies,movie_details,on='Title', how='inner')"
   ]
  },
  {
   "cell_type": "code",
   "execution_count": 36,
   "metadata": {
    "execution": {
     "iopub.execute_input": "2020-09-09T06:52:34.025113Z",
     "iopub.status.busy": "2020-09-09T06:52:34.023936Z",
     "iopub.status.idle": "2020-09-09T06:52:34.030218Z",
     "shell.execute_reply": "2020-09-09T06:52:34.029416Z"
    },
    "papermill": {
     "duration": 0.032675,
     "end_time": "2020-09-09T06:52:34.030345",
     "exception": false,
     "start_time": "2020-09-09T06:52:33.997670",
     "status": "completed"
    },
    "tags": []
   },
   "outputs": [],
   "source": [
    "drop=['title','original_title','imdb_title_id','reviews_from_users','reviews_from_critics','worlwide_gross_income','writer','usa_gross_income','budget', 'production_company']\n",
    "movies=movies.drop(drop, axis=1)"
   ]
  },
  {
   "cell_type": "code",
   "execution_count": 37,
   "metadata": {
    "execution": {
     "iopub.execute_input": "2020-09-09T06:52:34.181759Z",
     "iopub.status.busy": "2020-09-09T06:52:34.175306Z",
     "iopub.status.idle": "2020-09-09T06:52:34.197078Z",
     "shell.execute_reply": "2020-09-09T06:52:34.196293Z"
    },
    "papermill": {
     "duration": 0.147721,
     "end_time": "2020-09-09T06:52:34.197206",
     "exception": false,
     "start_time": "2020-09-09T06:52:34.049485",
     "status": "completed"
    },
    "tags": []
   },
   "outputs": [
    {
     "data": {
      "text/html": [
       "<div>\n",
       "<style scoped>\n",
       "    .dataframe tbody tr th:only-of-type {\n",
       "        vertical-align: middle;\n",
       "    }\n",
       "\n",
       "    .dataframe tbody tr th {\n",
       "        vertical-align: top;\n",
       "    }\n",
       "\n",
       "    .dataframe thead th {\n",
       "        text-align: right;\n",
       "    }\n",
       "</style>\n",
       "<table border=\"1\" class=\"dataframe\">\n",
       "  <thead>\n",
       "    <tr style=\"text-align: right;\">\n",
       "      <th></th>\n",
       "      <th>Title</th>\n",
       "      <th>Date</th>\n",
       "      <th>Views_total</th>\n",
       "      <th>Day</th>\n",
       "      <th>Month</th>\n",
       "      <th>Year</th>\n",
       "      <th>Month_Name</th>\n",
       "      <th>Day_Name</th>\n",
       "      <th>date_added</th>\n",
       "      <th>release_year</th>\n",
       "      <th>...</th>\n",
       "      <th>genre</th>\n",
       "      <th>duration</th>\n",
       "      <th>country</th>\n",
       "      <th>language</th>\n",
       "      <th>director</th>\n",
       "      <th>actors</th>\n",
       "      <th>description</th>\n",
       "      <th>avg_vote</th>\n",
       "      <th>votes</th>\n",
       "      <th>metascore</th>\n",
       "    </tr>\n",
       "  </thead>\n",
       "  <tbody>\n",
       "    <tr>\n",
       "      <th>0</th>\n",
       "      <td>Swami</td>\n",
       "      <td>2020-07-27</td>\n",
       "      <td>1</td>\n",
       "      <td>2</td>\n",
       "      <td>9</td>\n",
       "      <td>2020</td>\n",
       "      <td>September</td>\n",
       "      <td>Monday</td>\n",
       "      <td>December 31, 2019</td>\n",
       "      <td>1977</td>\n",
       "      <td>...</td>\n",
       "      <td>Drama</td>\n",
       "      <td>129</td>\n",
       "      <td>India</td>\n",
       "      <td>Hindi</td>\n",
       "      <td>Basu Chatterjee</td>\n",
       "      <td>Shabana Azmi, Girish Karnad, Utpal Dutt, Dheer...</td>\n",
       "      <td>Shortly after Saudamani's birth, her dad passe...</td>\n",
       "      <td>6.7</td>\n",
       "      <td>117</td>\n",
       "      <td>NaN</td>\n",
       "    </tr>\n",
       "    <tr>\n",
       "      <th>1</th>\n",
       "      <td>Swami</td>\n",
       "      <td>2020-07-27</td>\n",
       "      <td>1</td>\n",
       "      <td>2</td>\n",
       "      <td>9</td>\n",
       "      <td>2020</td>\n",
       "      <td>September</td>\n",
       "      <td>Monday</td>\n",
       "      <td>December 31, 2019</td>\n",
       "      <td>1977</td>\n",
       "      <td>...</td>\n",
       "      <td>Drama</td>\n",
       "      <td>140</td>\n",
       "      <td>India</td>\n",
       "      <td>Hindi</td>\n",
       "      <td>Ganesh Acharya</td>\n",
       "      <td>Manoj Bajpayee, Juhi Chawla, Maninder Wasu, Ne...</td>\n",
       "      <td>Swami, Radha and their kid shift to Mumbai aft...</td>\n",
       "      <td>7.0</td>\n",
       "      <td>327</td>\n",
       "      <td>NaN</td>\n",
       "    </tr>\n",
       "    <tr>\n",
       "      <th>2</th>\n",
       "      <td>Queen</td>\n",
       "      <td>2020-07-26</td>\n",
       "      <td>1</td>\n",
       "      <td>31</td>\n",
       "      <td>8</td>\n",
       "      <td>2020</td>\n",
       "      <td>August</td>\n",
       "      <td>Sunday</td>\n",
       "      <td>May 1, 2017</td>\n",
       "      <td>2014</td>\n",
       "      <td>...</td>\n",
       "      <td>Comedy, Drama</td>\n",
       "      <td>146</td>\n",
       "      <td>India</td>\n",
       "      <td>Hindi, English, French, Japanese, Dutch</td>\n",
       "      <td>Vikas Bahl</td>\n",
       "      <td>Kangana Ranaut, Rajkummar Rao, Lisa Haydon, Je...</td>\n",
       "      <td>A Delhi girl from a traditional family sets ou...</td>\n",
       "      <td>8.2</td>\n",
       "      <td>56449</td>\n",
       "      <td>NaN</td>\n",
       "    </tr>\n",
       "    <tr>\n",
       "      <th>3</th>\n",
       "      <td>Queen</td>\n",
       "      <td>2020-07-26</td>\n",
       "      <td>1</td>\n",
       "      <td>31</td>\n",
       "      <td>8</td>\n",
       "      <td>2020</td>\n",
       "      <td>August</td>\n",
       "      <td>Sunday</td>\n",
       "      <td>May 1, 2017</td>\n",
       "      <td>2014</td>\n",
       "      <td>...</td>\n",
       "      <td>Comedy, Crime, Mystery</td>\n",
       "      <td>157</td>\n",
       "      <td>India</td>\n",
       "      <td>Malayalam</td>\n",
       "      <td>Dijo Jose Antony</td>\n",
       "      <td>Dhruvan, Saniya Iyappan, Eldho Mathew, Ashwin ...</td>\n",
       "      <td>The story starts with the inauguration of the ...</td>\n",
       "      <td>7.1</td>\n",
       "      <td>1198</td>\n",
       "      <td>NaN</td>\n",
       "    </tr>\n",
       "    <tr>\n",
       "      <th>4</th>\n",
       "      <td>Battle</td>\n",
       "      <td>2020-07-21</td>\n",
       "      <td>1</td>\n",
       "      <td>30</td>\n",
       "      <td>8</td>\n",
       "      <td>2020</td>\n",
       "      <td>August</td>\n",
       "      <td>Tuesday</td>\n",
       "      <td>December 1, 2018</td>\n",
       "      <td>2018</td>\n",
       "      <td>...</td>\n",
       "      <td>Drama</td>\n",
       "      <td>95</td>\n",
       "      <td>USA</td>\n",
       "      <td>English</td>\n",
       "      <td>Laron Austin</td>\n",
       "      <td>Conrad Clifton, Onira Tares, Chris Burns, Erro...</td>\n",
       "      <td>When thieves steal the tracks that Rippa was u...</td>\n",
       "      <td>2.0</td>\n",
       "      <td>106</td>\n",
       "      <td>NaN</td>\n",
       "    </tr>\n",
       "  </tbody>\n",
       "</table>\n",
       "<p>5 rows × 24 columns</p>\n",
       "</div>"
      ],
      "text/plain": [
       "    Title       Date  Views_total  Day  Month  Year Month_Name Day_Name  \\\n",
       "0   Swami 2020-07-27            1    2      9  2020  September   Monday   \n",
       "1   Swami 2020-07-27            1    2      9  2020  September   Monday   \n",
       "2   Queen 2020-07-26            1   31      8  2020     August   Sunday   \n",
       "3   Queen 2020-07-26            1   31      8  2020     August   Sunday   \n",
       "4  Battle 2020-07-21            1   30      8  2020     August  Tuesday   \n",
       "\n",
       "          date_added  release_year  ...                   genre duration  \\\n",
       "0  December 31, 2019          1977  ...                   Drama      129   \n",
       "1  December 31, 2019          1977  ...                   Drama      140   \n",
       "2        May 1, 2017          2014  ...           Comedy, Drama      146   \n",
       "3        May 1, 2017          2014  ...  Comedy, Crime, Mystery      157   \n",
       "4   December 1, 2018          2018  ...                   Drama       95   \n",
       "\n",
       "   country                                 language          director  \\\n",
       "0    India                                    Hindi   Basu Chatterjee   \n",
       "1    India                                    Hindi    Ganesh Acharya   \n",
       "2    India  Hindi, English, French, Japanese, Dutch        Vikas Bahl   \n",
       "3    India                                Malayalam  Dijo Jose Antony   \n",
       "4      USA                                  English      Laron Austin   \n",
       "\n",
       "                                              actors  \\\n",
       "0  Shabana Azmi, Girish Karnad, Utpal Dutt, Dheer...   \n",
       "1  Manoj Bajpayee, Juhi Chawla, Maninder Wasu, Ne...   \n",
       "2  Kangana Ranaut, Rajkummar Rao, Lisa Haydon, Je...   \n",
       "3  Dhruvan, Saniya Iyappan, Eldho Mathew, Ashwin ...   \n",
       "4  Conrad Clifton, Onira Tares, Chris Burns, Erro...   \n",
       "\n",
       "                                         description avg_vote  votes metascore  \n",
       "0  Shortly after Saudamani's birth, her dad passe...      6.7    117       NaN  \n",
       "1  Swami, Radha and their kid shift to Mumbai aft...      7.0    327       NaN  \n",
       "2  A Delhi girl from a traditional family sets ou...      8.2  56449       NaN  \n",
       "3  The story starts with the inauguration of the ...      7.1   1198       NaN  \n",
       "4  When thieves steal the tracks that Rippa was u...      2.0    106       NaN  \n",
       "\n",
       "[5 rows x 24 columns]"
      ]
     },
     "execution_count": 37,
     "metadata": {},
     "output_type": "execute_result"
    }
   ],
   "source": [
    "movies.head()"
   ]
  },
  {
   "cell_type": "code",
   "execution_count": 38,
   "metadata": {
    "execution": {
     "iopub.execute_input": "2020-09-09T06:52:34.282706Z",
     "iopub.status.busy": "2020-09-09T06:52:34.244051Z",
     "iopub.status.idle": "2020-09-09T06:52:34.313407Z",
     "shell.execute_reply": "2020-09-09T06:52:34.312555Z"
    },
    "papermill": {
     "duration": 0.096997,
     "end_time": "2020-09-09T06:52:34.313579",
     "exception": false,
     "start_time": "2020-09-09T06:52:34.216582",
     "status": "completed"
    },
    "tags": []
   },
   "outputs": [],
   "source": [
    "# we will be extracting primary genre for visualisation purposes\n",
    "\n",
    "def genre_segmentation(df, col):\n",
    "    index_col = df.columns.get_loc(col)\n",
    "    \n",
    "    for row in range(len(df)):\n",
    "        genre = df.iat[row,index_col]\n",
    "        genre_new=\"\"\n",
    "        for i in range(len(genre)):\n",
    "            if genre[i]!=',':\n",
    "                genre_new=genre_new+genre[i]\n",
    "            else:\n",
    "                break\n",
    "        \n",
    "        df.iat[row,index_col]=genre_new\n",
    "        \n",
    "genre_segmentation(movies, 'genre')"
   ]
  },
  {
   "cell_type": "code",
   "execution_count": 39,
   "metadata": {
    "execution": {
     "iopub.execute_input": "2020-09-09T06:52:34.375809Z",
     "iopub.status.busy": "2020-09-09T06:52:34.374697Z",
     "iopub.status.idle": "2020-09-09T06:52:34.387374Z",
     "shell.execute_reply": "2020-09-09T06:52:34.386406Z"
    },
    "papermill": {
     "duration": 0.047017,
     "end_time": "2020-09-09T06:52:34.387549",
     "exception": false,
     "start_time": "2020-09-09T06:52:34.340532",
     "status": "completed"
    },
    "tags": []
   },
   "outputs": [],
   "source": [
    "drop=['Date','Month','Day','Year','Month_Name','Day_Name','year','duration','date_published']\n",
    "dummy=movies.drop(drop,axis=1)\n",
    "dummy = dummy.drop_duplicates()"
   ]
  },
  {
   "cell_type": "markdown",
   "metadata": {
    "papermill": {
     "duration": 0.018796,
     "end_time": "2020-09-09T06:52:34.427401",
     "exception": false,
     "start_time": "2020-09-09T06:52:34.408605",
     "status": "completed"
    },
    "tags": []
   },
   "source": [
    "## Movie views based on genre"
   ]
  },
  {
   "cell_type": "code",
   "execution_count": 40,
   "metadata": {
    "execution": {
     "iopub.execute_input": "2020-09-09T06:52:34.482734Z",
     "iopub.status.busy": "2020-09-09T06:52:34.481879Z",
     "iopub.status.idle": "2020-09-09T06:52:34.485002Z",
     "shell.execute_reply": "2020-09-09T06:52:34.485561Z"
    },
    "papermill": {
     "duration": 0.038987,
     "end_time": "2020-09-09T06:52:34.485800",
     "exception": false,
     "start_time": "2020-09-09T06:52:34.446813",
     "status": "completed"
    },
    "tags": []
   },
   "outputs": [],
   "source": [
    "dummy['Genre Views']=1\n",
    "drop = ['avg_vote','Views_total','votes', 'metascore','release_year','rating']\n",
    "g=dummy.drop(drop, axis=1).groupby(['genre'])\n",
    "df=g.sum()"
   ]
  },
  {
   "cell_type": "code",
   "execution_count": 41,
   "metadata": {
    "execution": {
     "iopub.execute_input": "2020-09-09T06:52:34.542596Z",
     "iopub.status.busy": "2020-09-09T06:52:34.539573Z",
     "iopub.status.idle": "2020-09-09T06:52:34.546377Z",
     "shell.execute_reply": "2020-09-09T06:52:34.546946Z"
    },
    "papermill": {
     "duration": 0.04177,
     "end_time": "2020-09-09T06:52:34.547115",
     "exception": false,
     "start_time": "2020-09-09T06:52:34.505345",
     "status": "completed"
    },
    "tags": []
   },
   "outputs": [],
   "source": [
    "dummy.drop('Genre Views', axis=1, inplace=True)\n",
    "dummy=pd.merge(dummy,df,on='genre',how='inner')"
   ]
  },
  {
   "cell_type": "code",
   "execution_count": 42,
   "metadata": {
    "execution": {
     "iopub.execute_input": "2020-09-09T06:52:34.595507Z",
     "iopub.status.busy": "2020-09-09T06:52:34.593722Z",
     "iopub.status.idle": "2020-09-09T06:52:34.598489Z",
     "shell.execute_reply": "2020-09-09T06:52:34.599254Z"
    },
    "papermill": {
     "duration": 0.032809,
     "end_time": "2020-09-09T06:52:34.599414",
     "exception": false,
     "start_time": "2020-09-09T06:52:34.566605",
     "status": "completed"
    },
    "tags": []
   },
   "outputs": [],
   "source": [
    "drop = ['Title', 'Views_total', 'date_added', 'release_year', 'rating',\n",
    "       'listed_in','country', 'language', 'director', 'actors',\n",
    "       'description', 'avg_vote', 'votes', 'metascore']\n",
    "dummy2 = dummy.drop(drop, axis=1)"
   ]
  },
  {
   "cell_type": "code",
   "execution_count": 43,
   "metadata": {
    "execution": {
     "iopub.execute_input": "2020-09-09T06:52:34.696613Z",
     "iopub.status.busy": "2020-09-09T06:52:34.695550Z",
     "iopub.status.idle": "2020-09-09T06:52:35.574503Z",
     "shell.execute_reply": "2020-09-09T06:52:35.573868Z"
    },
    "papermill": {
     "duration": 0.955361,
     "end_time": "2020-09-09T06:52:35.574623",
     "exception": false,
     "start_time": "2020-09-09T06:52:34.619262",
     "status": "completed"
    },
    "tags": []
   },
   "outputs": [
    {
     "data": {
      "image/png": "[encoded data removed]",
      "text/plain": [
       "<Figure size 720x576 with 1 Axes>"
      ]
     },
     "metadata": {},
     "output_type": "display_data"
    }
   ],
   "source": [
    "dummy2=dummy2.sort_values([\"Genre Views\"],ascending=False)\n",
    "fig, ax = plt.subplots(figsize=(10, 8))\n",
    "chart = sns.barplot(x=dummy2['genre'],y=dummy2['Genre Views'])\n",
    "chart.set_xticklabels(labels=chart.get_xticklabels(),rotation=90, horizontalalignment='left')\n",
    "plt.show()"
   ]
  },
  {
   "cell_type": "markdown",
   "metadata": {
    "papermill": {
     "duration": 0.019755,
     "end_time": "2020-09-09T06:52:35.614052",
     "exception": false,
     "start_time": "2020-09-09T06:52:35.594297",
     "status": "completed"
    },
    "tags": []
   },
   "source": [
    "# Conclusion\n",
    "\n",
    "So far, I have observed that:\n",
    "1. we have watched a lot of TV-shows/movies during 2020. The reason is obvious, due to lockdown and covid-19 situation. \n",
    "2. We used a lot of netflix during the month of July and August. \n",
    "3. Big-Bang Theory has been one of the most watched TV-shows till now followed by Friends and Naruto.\n",
    "4. In case of movies, we have watched comedy genre movies a lot followed by action movies.\n",
    "\n",
    "I will be trying to do some more analysis based on other features like duration of movie, country of making etc."
   ]
  }
 ],
 "metadata": {
  "kernelspec": {
   "display_name": "Python 3",
   "language": "python",
   "name": "python3"
  },
  "language_info": {
   "codemirror_mode": {
    "name": "ipython",
    "version": 3
   },
   "file_extension": ".py",
   "mimetype": "text/x-python",
   "name": "python",
   "nbconvert_exporter": "python",
   "pygments_lexer": "ipython3",
   "version": "3.7.3"
  },
  "papermill": {
   "duration": 20.416137,
   "end_time": "2020-09-09T06:52:35.742175",
   "environment_variables": {},
   "exception": null,
   "input_path": "__notebook__.ipynb",
   "output_path": "__notebook__.ipynb",
   "parameters": {},
   "start_time": "2020-09-09T06:52:15.326038",
   "version": "2.1.0"
  }
 },
 "nbformat": 4,
 "nbformat_minor": 4
}
